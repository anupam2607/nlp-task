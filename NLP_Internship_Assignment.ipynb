{
 "cells": [
  {
   "cell_type": "markdown",
   "id": "36e98e8d",
   "metadata": {},
   "source": [
    "# Step 1: Dataset Selection & Preprocessing"
   ]
  },
  {
   "cell_type": "markdown",
   "id": "51aeb073",
   "metadata": {},
   "source": [
    "\n",
    "We use the **Kaggle Disaster Tweets dataset** (10k tweets labeled as disaster or not).  \n",
    "It is interesting because tweets are short, noisy, and often contain slang/emojis → real NLP challenges.  \n"
   ]
  },
  {
   "cell_type": "code",
   "execution_count": null,
   "id": "03137b8b",
   "metadata": {},
   "outputs": [],
   "source": [
    "\n",
    "import pandas as pd\n",
    "import re\n",
    "from sklearn.model_selection import train_test_split\n",
    "from sklearn.feature_extraction.text import TfidfVectorizer\n",
    "\n",
    "# Load dataset (assumes disaster_tweets.csv is available)\n",
    "# You can download from Kaggle: https://www.kaggle.com/c/nlp-getting-started/data\n",
    "df = pd.read_csv(\"disaster_tweets.csv\")  \n",
    "df.head()\n"
   ]
  },
  {
   "cell_type": "code",
   "execution_count": null,
   "id": "35ae59e1",
   "metadata": {},
   "outputs": [],
   "source": [
    "\n",
    "# Basic preprocessing: lowercase, remove links, mentions, special chars\n",
    "def clean_text(text):\n",
    "    text = text.lower()\n",
    "    text = re.sub(r\"http\\S+\", \"\", text)\n",
    "    text = re.sub(r\"@[A-Za-z0-9_]+\", \"\", text)\n",
    "    text = re.sub(r\"[^a-zA-Z0-9\\s]\", \"\", text)\n",
    "    return text\n",
    "\n",
    "df[\"clean_text\"] = df[\"text\"].apply(clean_text)\n",
    "df[[\"text\", \"clean_text\", \"target\"]].head()\n"
   ]
  },
  {
   "cell_type": "markdown",
   "id": "523ce94c",
   "metadata": {},
   "source": [
    "# Step 2: Prompt Engineering"
   ]
  },
  {
   "cell_type": "markdown",
   "id": "258bea16",
   "metadata": {},
   "source": [
    "\n",
    "We design **3 prompt styles** for the task *\"Is this tweet about a real disaster?\"*  \n"
   ]
  },
  {
   "cell_type": "code",
   "execution_count": null,
   "id": "4ffd66d8",
   "metadata": {},
   "outputs": [],
   "source": [
    "\n",
    "tweet = \"Huge fire near the city center, people are being evacuated!\"\n",
    "\n",
    "prompt_1 = f\"Classify: {tweet} (Answer Disaster / Not Disaster)\"\n",
    "prompt_2 = f\"Read carefully: '{tweet}'. Does it describe a real disaster event?\"\n",
    "prompt_3 = f\"You are an emergency analyst. Decide if the tweet below is about a real disaster. Tweet: {tweet}\"\n",
    "\n",
    "print(\"Prompt 1:\", prompt_1)\n",
    "print(\"Prompt 2:\", prompt_2)\n",
    "print(\"Prompt 3:\", prompt_3)\n"
   ]
  },
  {
   "cell_type": "markdown",
   "id": "78af3146",
   "metadata": {},
   "source": [
    "\n",
    "👉 Expected differences:  \n",
    "- Prompt 1 → short, may lead to ambiguous answers.  \n",
    "- Prompt 2 → clearer, more natural.  \n",
    "- Prompt 3 → role-based, encourages contextual reasoning.  \n"
   ]
  },
  {
   "cell_type": "markdown",
   "id": "fc3f639b",
   "metadata": {},
   "source": [
    "# Step 3: Model Training & Evaluation"
   ]
  },
  {
   "cell_type": "code",
   "execution_count": null,
   "id": "15ec4f5b",
   "metadata": {},
   "outputs": [],
   "source": [
    "\n",
    "from sklearn.linear_model import LogisticRegression\n",
    "from sklearn.metrics import classification_report\n",
    "\n",
    "X = df[\"clean_text\"]\n",
    "y = df[\"target\"]\n",
    "\n",
    "# Train/test split\n",
    "X_train, X_test, y_train, y_test = train_test_split(X, y, test_size=0.2, random_state=42)\n",
    "\n",
    "# TF-IDF vectorization\n",
    "vectorizer = TfidfVectorizer(max_features=5000)\n",
    "X_train_vec = vectorizer.fit_transform(X_train)\n",
    "X_test_vec = vectorizer.transform(X_test)\n",
    "\n",
    "# Train Logistic Regression baseline\n",
    "model = LogisticRegression(max_iter=200)\n",
    "model.fit(X_train_vec, y_train)\n",
    "\n",
    "# Evaluate\n",
    "y_pred = model.predict(X_test_vec)\n",
    "print(classification_report(y_test, y_pred))\n"
   ]
  },
  {
   "cell_type": "markdown",
   "id": "c5664446",
   "metadata": {},
   "source": [
    "# Step 4: Troubleshooting"
   ]
  },
  {
   "cell_type": "markdown",
   "id": "a34ffc7b",
   "metadata": {},
   "source": [
    "\n",
    "**Likely Issue:**  \n",
    "Tweets may contain sarcasm, jokes, or slang → model misclassifies them. This leads to **lower recall** (missing real disasters).  \n",
    "\n",
    "**Solution:**  \n",
    "- Collect more diverse training data.  \n",
    "- Use transformer models (like DistilBERT) for better context.  \n",
    "- Improve prompts by explicitly warning model about sarcasm.  \n",
    "- Focus evaluation on Recall, not just Accuracy.  \n"
   ]
  }
 ],
 "metadata": {},
 "nbformat": 4,
 "nbformat_minor": 5
}
